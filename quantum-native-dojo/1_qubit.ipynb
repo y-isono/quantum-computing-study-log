{
 "cells": [
  {
   "cell_type": "code",
   "execution_count": 14,
   "id": "326cd4a6",
   "metadata": {},
   "outputs": [],
   "source": [
    "from IPython.display import Image, display_png\n",
    "from sympy import *\n",
    "from sympy.physics.quantum import *\n",
    "from sympy.physics.quantum.qubit import Qubit,QubitBra\n",
    "from sympy.physics.quantum.gate import X,Y,Z,H,S,T,CNOT,SWAP, CPHASE\n",
    "\n",
    "init_printing()"
   ]
  },
  {
   "cell_type": "markdown",
   "id": "c8a5dd5a",
   "metadata": {},
   "source": [
    "# 1-1. 量子ビット"
   ]
  },
  {
   "cell_type": "code",
   "execution_count": 15,
   "id": "7203c59e",
   "metadata": {},
   "outputs": [
    {
     "data": {
      "image/png": "[encoded data removed]",
      "text/latex": [
       "$\\displaystyle {\\left|0\\right\\rangle }$"
      ],
      "text/plain": [
       "❘0⟩"
      ]
     },
     "execution_count": 15,
     "metadata": {},
     "output_type": "execute_result"
    }
   ],
   "source": [
    "psi = Qubit('0')\n",
    "psi"
   ]
  },
  {
   "cell_type": "code",
   "execution_count": 16,
   "id": "ea5ad6b6",
   "metadata": {},
   "outputs": [
    {
     "data": {
      "text/latex": [
       "$\\displaystyle \\left[\\begin{matrix}1\\\\0\\end{matrix}\\right]$"
      ],
      "text/plain": [
       "⎡1⎤\n",
       "⎢ ⎥\n",
       "⎣0⎦"
      ]
     },
     "execution_count": 16,
     "metadata": {},
     "output_type": "execute_result"
    }
   ],
   "source": [
    "represent(psi)"
   ]
  },
  {
   "cell_type": "code",
   "execution_count": 17,
   "id": "ab8ffc3c",
   "metadata": {},
   "outputs": [
    {
     "data": {
      "image/png": "[encoded data removed]",
      "text/latex": [
       "$\\displaystyle \\alpha {\\left|0\\right\\rangle } + \\beta {\\left|1\\right\\rangle }$"
      ],
      "text/plain": [
       "α⋅❘0⟩ + β⋅❘1⟩"
      ]
     },
     "execution_count": 17,
     "metadata": {},
     "output_type": "execute_result"
    }
   ],
   "source": [
    "a, b = symbols('alpha, beta')\n",
    "ket0 = Qubit('0')\n",
    "ket1 = Qubit('1')\n",
    "psi = a * ket0 + b* ket1\n",
    "psi\n"
   ]
  },
  {
   "cell_type": "code",
   "execution_count": 18,
   "id": "662db9c1",
   "metadata": {},
   "outputs": [
    {
     "data": {
      "text/latex": [
       "$\\displaystyle \\left[\\begin{matrix}\\alpha\\\\\\beta\\end{matrix}\\right]$"
      ],
      "text/plain": [
       "⎡α⎤\n",
       "⎢ ⎥\n",
       "⎣β⎦"
      ]
     },
     "execution_count": 18,
     "metadata": {},
     "output_type": "execute_result"
    }
   ],
   "source": [
    "represent(psi)"
   ]
  },
  {
   "cell_type": "code",
   "execution_count": 19,
   "id": "542451a4",
   "metadata": {},
   "outputs": [
    {
     "data": {
      "image/png": "[encoded data removed]",
      "text/latex": [
       "$\\displaystyle \\frac{\\sqrt{2} {\\left|0\\right\\rangle }}{2} + \\frac{\\sqrt{2} {\\left|1\\right\\rangle }}{2}$"
      ],
      "text/plain": [
       "√2⋅❘0⟩   √2⋅❘1⟩\n",
       "────── + ──────\n",
       "  2        2   "
      ]
     },
     "execution_count": 19,
     "metadata": {},
     "output_type": "execute_result"
    }
   ],
   "source": [
    "psi.subs([([a,1/sqrt(2)]),([b,1/sqrt(2)])])"
   ]
  },
  {
   "cell_type": "markdown",
   "id": "308e7122",
   "metadata": {},
   "source": [
    "# 1-2. 量子ビットに対する基本演算"
   ]
  },
  {
   "cell_type": "markdown",
   "id": "9452d34c",
   "metadata": {},
   "source": [
    "演算子 U を作用させた時を考えた時、\n",
    "\n",
    "$$\n",
    "U\\ket\\psi\n",
    "$$\n",
    "\n",
    "についても規格化条件を満たす必要がある。\n",
    "よって、\n",
    "\n",
    "$$\n",
    "\\bra\\psi U^\\dagger U \\ket\\psi = 1\n",
    "$$\n",
    "\n",
    "が、任意の $\\ket\\psi$ で成立する。\n",
    "つまり、量子ビットに対する操作を表す演算子 U は下記を満たすユニタリー行列となる。\n",
    "\n",
    "$$\n",
    "U^\\dagger U = U U^\\dagger = I\n",
    "$$\n",
    "\n",
    "このような、ユニタリー性を満たす線形変換のことを量子演算 (quantum gate) と呼ぶ。"
   ]
  },
  {
   "cell_type": "markdown",
   "id": "83c5fa2e",
   "metadata": {},
   "source": [
    "## パウリ演算子\n",
    "下記をパウリ演算子と呼ぶ。\n",
    "\n",
    "- 恒等演算子 $I$\n",
    "\n",
    "$$\n",
    "I = \\begin{bmatrix}\n",
    "1 & 0 \\\\\n",
    "0 & 1\n",
    "\\end{bmatrix}\n",
    "$$\n",
    "\n",
    "要するに何もしない。\n",
    "\n",
    "- 演算子 $X$\n",
    "\n",
    "$$\n",
    "X = \\begin{bmatrix}\n",
    "0 & 1 \\\\\n",
    "1 & 0\n",
    "\\end{bmatrix}\n",
    "$$\n",
    "\n",
    "下記のように要素を反転させる。\n",
    "\n",
    "$$\n",
    "X\\ket0 = \\ket1, X\\ket1 = \\ket0\n",
    "$$\n",
    "\n",
    "- 演算子 $Z$\n",
    "\n",
    "$$\n",
    "Z = \\begin{bmatrix}\n",
    "1 & 0 \\\\\n",
    "0 & -1\n",
    "\\end{bmatrix}\n",
    "$$\n",
    "\n",
    "下記のように位相を反転させる。\n",
    "\n",
    "$$\n",
    "Z\\ket0 = \\ket0, Z\\ket1 = -\\ket1 \n",
    "$$\n",
    "$$\n",
    "Z\\frac{1}{\\sqrt2} (\\ket0 + \\ket1) = Z\\frac{1}{\\sqrt2} (\\ket0 - \\ket1)\n",
    "$$\n",
    "\n",
    "- 演算子 $Y$\n",
    "\n",
    "$$\n",
    "Y = \\begin{bmatrix}\n",
    "0 & -i \\\\\n",
    "i & 0\n",
    "\\end{bmatrix}\n",
    "$$\n",
    "\n",
    "$Y = iXZ$ とかけ、位相の反転とビットの反転を組み合わせたもの。"
   ]
  },
  {
   "cell_type": "markdown",
   "id": "ce8f0695",
   "metadata": {},
   "source": [
    "## SymPy を用いた一量子ビット演算"
   ]
  },
  {
   "cell_type": "code",
   "execution_count": 20,
   "id": "ffb8daf5",
   "metadata": {},
   "outputs": [],
   "source": [
    "\n",
    "from IPython.display import Image, display_png\n",
    "from sympy import *\n",
    "from sympy.physics.quantum import *\n",
    "from sympy.physics.quantum.qubit import Qubit,QubitBra\n",
    "from sympy.physics.quantum.gate import X,Y,Z,H,S,T,CNOT,SWAP,CPHASE\n",
    "\n",
    "init_printing() # ベクトルや行列を綺麗に表示するため"
   ]
  },
  {
   "cell_type": "code",
   "execution_count": 21,
   "id": "25020839",
   "metadata": {},
   "outputs": [
    {
     "data": {
      "image/png": "[encoded data removed]",
      "text/latex": [
       "$\\displaystyle S_{0} Y_{0} X_{0} H_{0} {\\left|0\\right\\rangle }$"
      ],
      "text/plain": [
       "S ⋅Y ⋅X ⋅H ⋅❘0⟩\n",
       " 0  0  0  0    "
      ]
     },
     "execution_count": 21,
     "metadata": {},
     "output_type": "execute_result"
    }
   ],
   "source": [
    "ket0 = Qubit('0')\n",
    "S(0)*Y(0)*X(0)*H(0)*ket0"
   ]
  },
  {
   "cell_type": "code",
   "execution_count": 22,
   "id": "85953397",
   "metadata": {},
   "outputs": [
    {
     "data": {
      "image/png": "[encoded data removed]",
      "text/latex": [
       "$\\displaystyle - \\frac{\\sqrt{2} i {\\left|0\\right\\rangle }}{2} - \\frac{\\sqrt{2} {\\left|1\\right\\rangle }}{2}$"
      ],
      "text/plain": [
       "  √2⋅ⅈ⋅❘0⟩   √2⋅❘1⟩\n",
       "- ──────── - ──────\n",
       "     2         2   "
      ]
     },
     "execution_count": 22,
     "metadata": {},
     "output_type": "execute_result"
    }
   ],
   "source": [
    "qapply(S(0)*Y(0)*X(0)*H(0)*ket0)"
   ]
  },
  {
   "cell_type": "markdown",
   "id": "61a4e53e",
   "metadata": {},
   "source": [
    "## ブラケット表記"
   ]
  },
  {
   "cell_type": "markdown",
   "id": "d98f576f",
   "metadata": {},
   "source": [
    "ブラケットを使えば、$X$ 演算子は、\n",
    "\n",
    "$$\n",
    "X = \\begin{bmatrix}\n",
    "0 & 1 \\\\\n",
    "1 & 0\n",
    "\\end{bmatrix} = \\ket0 \\bra1 + \\ket1 \\bra0\n",
    "$$\n",
    "\n",
    "とかけ、これを覚えておけば、$\\braket{i|j} = \\delta$ を用いて、形式的に計算していくことができる。\n",
    "\n",
    "同様に、\n",
    "\n",
    "$$\n",
    "I = \\ket0 \\bra0 + \\ket1 \\bra1, Z = \\ket0 \\bra0 - \\ket1 \\bra1\n",
    "$$\n",
    "\n",
    "についても覚えておこう。"
   ]
  },
  {
   "cell_type": "markdown",
   "id": "964906ee",
   "metadata": {},
   "source": [
    "# 1-3. 複数量子ビットの記述"
   ]
  },
  {
   "cell_type": "markdown",
   "id": "d2881f0f",
   "metadata": {},
   "source": [
    "$n$ 個の古典ビットの状態は $n$ 個の 0,1 の組み合わせで得られ、その総数は $2^n$ 通りあるが、量子ビットではこれらのパターンの組み合わせ状態が許されており、n 個の量子ビットの状態 $\\ket\\psi$ は\n",
    "\n",
    "$$\n",
    "\\ket\\psi = c_{00...0}\\ket{00...0} + c_{00...1}\\ket{00...1} + \\cdots + c_{11...1}\\ket{11...1} = \\begin{pmatrix}\n",
    " c_{00...0} \\\\ c_{00...1} \\\\ \\vdots \\\\ c_{11...1}\n",
    "\\end{pmatrix}\n",
    "$$\n",
    "\n",
    "と書くことができる。\n",
    "ただし、複素確率振幅 $c$ は、規格化条件\n",
    "\n",
    "$$\n",
    "\\sum_{i_1, \\cdots, i_n} |c_{i_1 \\cdots i_n}| = 1\n",
    "$$\n",
    "\n",
    "を満たす。\n",
    "n 量子ビットは指数的に大きい $2^n$ 次元の複素ベクトルで表現する必要があるところが古典ビットと大きく異なるところである。"
   ]
  },
  {
   "cell_type": "markdown",
   "id": "b639c1ef",
   "metadata": {},
   "source": [
    "## 2 量子ビットの場合"
   ]
  },
  {
   "cell_type": "markdown",
   "id": "79dae310",
   "metadata": {},
   "source": [
    "2 量子ビットの場合、00, 01, 10, 11 の 4 通りの重ね合わせを取りうるので、一般に、2 量子ビット $\\ket\\psi$ は、\n",
    "\n",
    "$$\n",
    "\\ket\\psi = c_{00} \\ket{00} + c_{01} \\ket{01} + c_{10} \\ket{10} + c_{11} \\ket{11} = \\begin{pmatrix}\n",
    "c_{00} \\\\\n",
    "c_{01} \\\\\n",
    "c_{10} \\\\\n",
    "c_{11}\n",
    "\\end{pmatrix}\n",
    "$$\n",
    "\n",
    "と書ける。\n",
    "\n",
    "2 量子ビットに作用する演算として最も重要なのが制御 NOT 演算 (CNOT 演算) であり、\n",
    "\n",
    "$$\n",
    "\\Lambda (X) = \\begin{bmatrix}\n",
    "1 & 0 & 0 & 0 \\\\\n",
    "0 & 1 & 0 & 0 \\\\\n",
    "0 & 0 & 0 & 1 \\\\\n",
    "0 & 0 & 1 & 0\n",
    "\\end{bmatrix}\n",
    "$$\n",
    "\n",
    "と表される。\n",
    "\n",
    "1 つ目の量子ビットが $\\ket0$ の場合、CNOT 演算を作用させても状態は変化しない。\n",
    "\n",
    "$$\n",
    "\\Lambda (X) \\begin{pmatrix}\n",
    "c_{00} \\\\\n",
    "c_{01} \\\\\n",
    "0 \\\\\n",
    "0\n",
    "\\end{pmatrix}\n",
    "= \\begin{pmatrix}\n",
    "c_{00} \\\\\n",
    "c_{01} \\\\\n",
    "0 \\\\\n",
    "0\n",
    "\\end{pmatrix}\n",
    "$$\n",
    "\n",
    "ただし、1 番目の量子ビットが $\\ket0$ なので、$c_{10} = c_{11} = 0$ を用いた。\n",
    "\n",
    "対して、1 番目の量子ビットが $\\ket1$ の場合、$c_{00} = c_{01} = 0$ なので、\n",
    "\n",
    "$$\n",
    "\\Lambda (X) \\begin{pmatrix}\n",
    "0 \\\\\n",
    "0 \\\\\n",
    "c_{01} \\\\\n",
    "c_{11}\n",
    "\\end{pmatrix}\n",
    "= \\begin{pmatrix}\n",
    "0 \\\\\n",
    "0 \\\\\n",
    "c_{11} \\\\\n",
    "c_{10}\n",
    "\\end{pmatrix}\n",
    "$$\n",
    "\n",
    "となり、$\\ket{10}$ と $\\ket{11}$ の複素確率振幅が入れ替わる。\n",
    "つまり、2 つ目の量子ビットが反転する。\n",
    "\n",
    "まとめると、CNOT 演算は 1 つ目の量子ビットの状態を保ちつつ、\n",
    "\n",
    "- 1 つ目の量子ビットが $\\ket0$ の場合、2 つ目の量子ビットには恒等演算子 $I$ が作用\n",
    "- 1 つ目の量子ビットが $\\ket1$ の場合、2 つ目の量子ビットには反転演算子 $X$ が作用\n",
    "\n",
    "という効果を持つ。\n",
    "そこで、1 つ目の量子ビットを制御量子ビット、2 つ目の量子ビットをターゲット量子ビットと呼ぶ。\n",
    "\n",
    "なお、CNOT 演算は $\\oplus$ を mod 2 の足し算つまり個展計算における排他的論理和 (XOR) とすると、\n",
    "\n",
    "$$\n",
    "\\Lambda (X) \\ket{ij} = \\ket{i\\ (i\\oplus j)} (i,j = 0,1)\n",
    "$$\n",
    "\n",
    "とも書ける。\n",
    "\n",
    "また、$i$ 番目の量子ビットを制御、$j$ 番目の量子ビットをターゲットとする CNOT ゲートを $\\Lambda(X)_{i,j}$ と書くこととすると、重要な 2 ビットゲートである SWAP ゲートを作ることができる。\n",
    "\n",
    "$$\n",
    "\\begin{aligned}\n",
    "\n",
    "\\textup{SWAP} &= \\Lambda(X)_{1,2} \\Lambda(X)_{2,1} \\Lambda(X)_{1,2} \\\\\n",
    "&= \n",
    "\\begin{bmatrix}\n",
    "1 & 0 & 0 & 0 \\\\\n",
    "0 & 1 & 0 & 0 \\\\\n",
    "0 & 0 & 0 & 1 \\\\\n",
    "0 & 0 & 1 & 0\n",
    "\\end{bmatrix}\n",
    "\n",
    "\\begin{bmatrix}\n",
    "0 & 1 & 0 & 0 \\\\\n",
    "1 & 0 & 0 & 0 \\\\\n",
    "0 & 0 & 1 & 0 \\\\\n",
    "0 & 0 & 0 & 1\n",
    "\\end{bmatrix}\n",
    "\n",
    "\\begin{bmatrix}\n",
    "1 & 0 & 0 & 0 \\\\\n",
    "0 & 1 & 0 & 0 \\\\\n",
    "0 & 0 & 0 & 1 \\\\\n",
    "0 & 0 & 1 & 0\n",
    "\\end{bmatrix}\n",
    "\\\\\n",
    "&= \\begin{bmatrix}\n",
    "1 & 0 & 0 & 0 \\\\\n",
    "0 & 0 & 1 & 0 \\\\\n",
    "0 & 1 & 0 & 0 \\\\\n",
    "0 & 0 & 1 & 0\n",
    "\\end{bmatrix}\n",
    "\n",
    "\\end{aligned}\n",
    "$$\n",
    "\n",
    "これは上記の mod 2 の足し算を使用すれば簡単に計算できる。\n",
    "\n",
    "$$\n",
    "\\begin{aligned}\n",
    "\n",
    "\\ket{ij} &\\rightarrow \\ket{i \\ \\ (i\\oplus j)} \\\\\n",
    "         &\\rightarrow \\ket{(i\\oplus (i\\oplus j)) \\ \\ (i\\oplus j)} = \\ket{j (i\\oplus j)} \\\\\n",
    "         &\\rightarrow \\ket{j \\ \\ (j \\oplus (i\\oplus j))} = \\ket{ji}\n",
    "\\end{aligned}\n",
    "\n",
    "$$"
   ]
  },
  {
   "cell_type": "markdown",
   "id": "a64ba1ce",
   "metadata": {},
   "source": [
    "## テンソル積の計算"
   ]
  },
  {
   "cell_type": "markdown",
   "id": "e5a6e07d",
   "metadata": {},
   "source": [
    "テンソル積\n",
    "\n",
    "$$\n",
    "\\begin{pmatrix}\n",
    "\\alpha \\\\\n",
    "\\beta \\\\\n",
    "\\end{pmatrix}\n",
    "\\otimes\n",
    "\\begin{pmatrix}\n",
    "\\gamma \\\\\n",
    "\\delta\n",
    "\\end{pmatrix}\n",
    "= \\begin{pmatrix}\n",
    "\\alpha\\gamma\\\\\n",
    "\\alpha\\delta\\\\\n",
    "\\beta\\gamma\\\\\n",
    "\\beta\\delta\n",
    "\\end{pmatrix}\n",
    "$$\n",
    "\n",
    "を用いて、量子ビットの複合系を計算することができる。\n",
    "\n",
    "たとえば、下記の通り。\n",
    "\n",
    "$$\n",
    "(\\alpha\\ket0 + \\beta\\ket1) \\otimes (\\gamma\\ket0 + \\delta\\ket1) = \\alpha\\gamma\\ket{00} + \\alpha\\delta\\ket{01} + \\beta\\gamma\\ket{10} + \\beta\\delta\\ket{11}\n",
    "$$"
   ]
  },
  {
   "cell_type": "markdown",
   "id": "0c5924c7",
   "metadata": {},
   "source": [
    "### Sympy を用いたテンソル積の計算"
   ]
  },
  {
   "cell_type": "code",
   "execution_count": 23,
   "id": "70892f35",
   "metadata": {},
   "outputs": [],
   "source": [
    "from IPython.display import Image, display_png\n",
    "from sympy import *\n",
    "from sympy.physics.quantum import *\n",
    "from sympy.physics.quantum.qubit import Qubit,QubitBra\n",
    "from sympy.physics.quantum.gate import X,Y,Z,H,S,T,CNOT,SWAP,CPHASE\n",
    "init_printing() # ベクトルや行列を綺麗に表示するため\n",
    "\n",
    "a,b,c,d = symbols('alpha,beta,gamma,delta')\n",
    "psi = a*Qubit('0')+b*Qubit('1')\n",
    "phi = c*Qubit('0')+d*Qubit('1')"
   ]
  },
  {
   "cell_type": "code",
   "execution_count": 24,
   "id": "ef02d61c",
   "metadata": {},
   "outputs": [
    {
     "data": {
      "image/png": "[encoded data removed]",
      "text/latex": [
       "$\\displaystyle \\left({\\alpha {\\left|0\\right\\rangle } + \\beta {\\left|1\\right\\rangle }}\\right)\\otimes \\left({\\delta {\\left|1\\right\\rangle } + \\gamma {\\left|0\\right\\rangle }}\\right)$"
      ],
      "text/plain": [
       "(α⋅❘0⟩ + β⋅❘1⟩)⨂ (δ⋅❘1⟩ + γ⋅❘0⟩)"
      ]
     },
     "execution_count": 24,
     "metadata": {},
     "output_type": "execute_result"
    }
   ],
   "source": [
    "TensorProduct(psi, phi)"
   ]
  },
  {
   "cell_type": "code",
   "execution_count": 25,
   "id": "14a4470d",
   "metadata": {},
   "outputs": [
    {
     "data": {
      "text/latex": [
       "$\\displaystyle \\left[\\begin{matrix}\\alpha \\gamma\\\\\\alpha \\delta\\\\\\beta \\gamma\\\\\\beta \\delta\\end{matrix}\\right]$"
      ],
      "text/plain": [
       "⎡α⋅γ⎤\n",
       "⎢   ⎥\n",
       "⎢α⋅δ⎥\n",
       "⎢   ⎥\n",
       "⎢β⋅γ⎥\n",
       "⎢   ⎥\n",
       "⎣β⋅δ⎦"
      ]
     },
     "execution_count": 25,
     "metadata": {},
     "output_type": "execute_result"
    }
   ],
   "source": [
    "represent(TensorProduct(psi, phi))"
   ]
  },
  {
   "cell_type": "code",
   "execution_count": 26,
   "id": "47887b79",
   "metadata": {},
   "outputs": [
    {
     "data": {
      "text/latex": [
       "$\\displaystyle \\left[\\begin{matrix}\\alpha^{2} \\gamma\\\\\\alpha^{2} \\delta\\\\\\alpha \\beta \\gamma\\\\\\alpha \\beta \\delta\\\\\\alpha \\beta \\gamma\\\\\\alpha \\beta \\delta\\\\\\beta^{2} \\gamma\\\\\\beta^{2} \\delta\\end{matrix}\\right]$"
      ],
      "text/plain": [
       "⎡ 2   ⎤\n",
       "⎢α ⋅γ ⎥\n",
       "⎢     ⎥\n",
       "⎢ 2   ⎥\n",
       "⎢α ⋅δ ⎥\n",
       "⎢     ⎥\n",
       "⎢α⋅β⋅γ⎥\n",
       "⎢     ⎥\n",
       "⎢α⋅β⋅δ⎥\n",
       "⎢     ⎥\n",
       "⎢α⋅β⋅γ⎥\n",
       "⎢     ⎥\n",
       "⎢α⋅β⋅δ⎥\n",
       "⎢     ⎥\n",
       "⎢ 2   ⎥\n",
       "⎢β ⋅γ ⎥\n",
       "⎢     ⎥\n",
       "⎢ 2   ⎥\n",
       "⎣β ⋅δ ⎦"
      ]
     },
     "execution_count": 26,
     "metadata": {},
     "output_type": "execute_result"
    }
   ],
   "source": [
    "represent(TensorProduct(psi,TensorProduct(psi, phi)))"
   ]
  },
  {
   "cell_type": "markdown",
   "id": "576fdfdc",
   "metadata": {},
   "source": [
    "### 演算子のテンソル積"
   ]
  },
  {
   "cell_type": "markdown",
   "id": "8a165fd9",
   "metadata": {},
   "source": [
    "行列のテンソル積は下記のように計算される。\n",
    "\n",
    "$$\n",
    "\\begin{pmatrix}\n",
    "a_{11} & a_{12} \\\\\n",
    "a_{21} & a_{22} \\\\\n",
    "\\end{pmatrix}\n",
    "\\otimes\n",
    "\\begin{pmatrix}\n",
    "b_{11} & b_{12} \\\\\n",
    "b_{21} & b_{22} \\\\\n",
    "\\end{pmatrix}\n",
    "= \\begin{pmatrix}\n",
    "a_{11}b_{11} & a_{11}b_{12} & a_{12}b_{11} & a_{12}b_{12} \\\\\n",
    "a_{11}b_{21} & a_{11}b_{22} & a_{12}b_{21} & a_{12}b_{22} \\\\\n",
    "a_{21}b_{11} & a_{21}b_{12} & a_{22}b_{11} & a_{22}b_{12} \\\\\n",
    "a_{21}b_{21} & a_{21}b_{22} & a_{22}b_{21} & a_{22}b_{22} \\\\\n",
    "\\end{pmatrix}\n",
    "$$\n",
    "\n",
    "テンソル積状態\n",
    "$$\n",
    "\\ket\\psi\\otimes\\ket\\phi\n",
    "$$ \n",
    "\n",
    "に対する作用は \n",
    "\n",
    "$$\n",
    "A\\ket\\psi \\otimes B\\ket\\phi\n",
    "$$\n",
    "\n",
    "のように、それぞれの部分系へと演算子が作用する形となる。\n",
    "多項式については下記のように展開してそれぞれの項を作用させれば良い。\n",
    "\n",
    "$$\n",
    "\\begin{aligned}\n",
    "(A+C) \\otimes (B+D) \\ \\ket\\psi \\otimes \\ket\\phi &= (A \\otimes B + A \\otimes D + C \\otimes B + C \\otimes D)\\ \\ket\\psi \\otimes \\ket\\phi \\\\\n",
    "                                                &= A\\ket\\psi\\otimes B\\ket\\phi + A\\ket\\psi\\otimes D\\ket\\phi + C\\ket\\psi\\otimes B\\ket\\phi + C\\ket\\psi\\otimes D\\ket\\phi\n",
    "\\end{aligned}\n",
    "$$"
   ]
  },
  {
   "cell_type": "markdown",
   "id": "71b4fe3d",
   "metadata": {},
   "source": []
  }
 ],
 "metadata": {
  "kernelspec": {
   "display_name": "Python 3 (ipykernel)",
   "language": "python",
   "name": "python3"
  },
  "language_info": {
   "codemirror_mode": {
    "name": "ipython",
    "version": 3
   },
   "file_extension": ".py",
   "mimetype": "text/x-python",
   "name": "python",
   "nbconvert_exporter": "python",
   "pygments_lexer": "ipython3",
   "version": "3.12.3"
  }
 },
 "nbformat": 4,
 "nbformat_minor": 5
}
