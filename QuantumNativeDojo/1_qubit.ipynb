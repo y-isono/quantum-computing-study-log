{
 "cells": [
  {
   "cell_type": "code",
   "execution_count": 1,
   "id": "326cd4a6",
   "metadata": {},
   "outputs": [],
   "source": [
    "from IPython.display import Image, display_png\n",
    "from sympy import *\n",
    "from sympy.physics.quantum import *\n",
    "from sympy.physics.quantum.qubit import Qubit,QubitBra\n",
    "init_printing()"
   ]
  },
  {
   "cell_type": "markdown",
   "id": "c8a5dd5a",
   "metadata": {},
   "source": [
    "# 1-1. 量子ビット"
   ]
  },
  {
   "cell_type": "code",
   "execution_count": 2,
   "id": "7203c59e",
   "metadata": {},
   "outputs": [
    {
     "data": {
      "image/png": "[encoded data removed]",
      "text/latex": [
       "$\\displaystyle {\\left|0\\right\\rangle }$"
      ],
      "text/plain": [
       "❘0⟩"
      ]
     },
     "execution_count": 2,
     "metadata": {},
     "output_type": "execute_result"
    }
   ],
   "source": [
    "psi = Qubit('0')\n",
    "psi"
   ]
  },
  {
   "cell_type": "code",
   "execution_count": 3,
   "id": "ea5ad6b6",
   "metadata": {},
   "outputs": [
    {
     "data": {
      "text/latex": [
       "$\\displaystyle \\left[\\begin{matrix}1\\\\0\\end{matrix}\\right]$"
      ],
      "text/plain": [
       "⎡1⎤\n",
       "⎢ ⎥\n",
       "⎣0⎦"
      ]
     },
     "execution_count": 3,
     "metadata": {},
     "output_type": "execute_result"
    }
   ],
   "source": [
    "represent(psi)"
   ]
  },
  {
   "cell_type": "code",
   "execution_count": 4,
   "id": "ab8ffc3c",
   "metadata": {},
   "outputs": [
    {
     "data": {
      "image/png": "[encoded data removed]",
      "text/latex": [
       "$\\displaystyle \\alpha {\\left|0\\right\\rangle } + \\beta {\\left|1\\right\\rangle }$"
      ],
      "text/plain": [
       "α⋅❘0⟩ + β⋅❘1⟩"
      ]
     },
     "execution_count": 4,
     "metadata": {},
     "output_type": "execute_result"
    }
   ],
   "source": [
    "a, b = symbols('alpha, beta')\n",
    "ket0 = Qubit('0')\n",
    "ket1 = Qubit('1')\n",
    "psi = a * ket0 + b* ket1\n",
    "psi\n"
   ]
  },
  {
   "cell_type": "code",
   "execution_count": 5,
   "id": "662db9c1",
   "metadata": {},
   "outputs": [
    {
     "data": {
      "text/latex": [
       "$\\displaystyle \\left[\\begin{matrix}\\alpha\\\\\\beta\\end{matrix}\\right]$"
      ],
      "text/plain": [
       "⎡α⎤\n",
       "⎢ ⎥\n",
       "⎣β⎦"
      ]
     },
     "execution_count": 5,
     "metadata": {},
     "output_type": "execute_result"
    }
   ],
   "source": [
    "represent(psi)"
   ]
  },
  {
   "cell_type": "code",
   "execution_count": 6,
   "id": "542451a4",
   "metadata": {},
   "outputs": [
    {
     "data": {
      "image/png": "[encoded data removed]",
      "text/latex": [
       "$\\displaystyle \\frac{\\sqrt{2} {\\left|0\\right\\rangle }}{2} + \\frac{\\sqrt{2} {\\left|1\\right\\rangle }}{2}$"
      ],
      "text/plain": [
       "√2⋅❘0⟩   √2⋅❘1⟩\n",
       "────── + ──────\n",
       "  2        2   "
      ]
     },
     "execution_count": 6,
     "metadata": {},
     "output_type": "execute_result"
    }
   ],
   "source": [
    "psi.subs([([a,1/sqrt(2)]),([b,1/sqrt(2)])])"
   ]
  },
  {
   "cell_type": "markdown",
   "id": "308e7122",
   "metadata": {},
   "source": [
    "# 1-2. 量子ビットに対する基本演算"
   ]
  },
  {
   "cell_type": "markdown",
   "id": "9452d34c",
   "metadata": {},
   "source": [
    "演算子 U を作用させた時を考えた時、\n",
    "\n",
    "$$\n",
    "U\\ket\\psi\n",
    "$$\n",
    "\n",
    "についても規格化条件を満たす必要がある。\n",
    "よって、\n",
    "\n",
    "$$\n",
    "\\bra\\psi U^\\dagger U \\ket\\psi = 1\n",
    "$$\n",
    "\n",
    "が、任意の $\\ket\\psi$ で成立する。\n",
    "つまり、量子ビットに対する操作を表す演算子 U は下記を満たすユニタリー行列となる。\n",
    "\n",
    "$$\n",
    "U^\\dagger U = U U^\\dagger = I\n",
    "$$\n",
    "\n",
    "このような、ユニタリー性を満たす線形変換のことを量子演算 (quantum gate) と呼ぶ。"
   ]
  },
  {
   "cell_type": "markdown",
   "id": "83c5fa2e",
   "metadata": {},
   "source": [
    "## パウリ演算子\n",
    "下記をパウリ演算子と呼ぶ。\n",
    "\n",
    "- 恒等演算子 $I$\n",
    "\n",
    "$$\n",
    "I = \\begin{bmatrix}\n",
    "1 & 0 \\\\\n",
    "0 & 1\n",
    "\\end{bmatrix}\n",
    "$$\n",
    "\n",
    "要するに何もしない。\n",
    "\n",
    "- 演算子 $X$\n",
    "\n",
    "$$\n",
    "X = \\begin{bmatrix}\n",
    "0 & 1 \\\\\n",
    "1 & 0\n",
    "\\end{bmatrix}\n",
    "$$\n",
    "\n",
    "下記のように要素を反転させる。\n",
    "\n",
    "$$\n",
    "X\\ket0 = \\ket1, X\\ket1 = \\ket0\n",
    "$$\n",
    "\n",
    "- 演算子 $Z$\n",
    "\n",
    "$$\n",
    "Z = \\begin{bmatrix}\n",
    "1 & 0 \\\\\n",
    "0 & -1\n",
    "\\end{bmatrix}\n",
    "$$\n",
    "\n",
    "下記のように位相を反転させる。\n",
    "\n",
    "$$\n",
    "Z\\ket0 = \\ket0, Z\\ket1 = -\\ket1 \n",
    "$$\n",
    "$$\n",
    "Z\\frac{1}{\\sqrt2} (\\ket0 + \\ket1) = Z\\frac{1}{\\sqrt2} (\\ket0 - \\ket1)\n",
    "$$\n",
    "\n",
    "- 演算子 $Y$\n",
    "\n",
    "$$\n",
    "Y = \\begin{bmatrix}\n",
    "0 & -i \\\\\n",
    "i & 0\n",
    "\\end{bmatrix}\n",
    "$$\n",
    "\n",
    "$Y = iXZ$ とかけ、位相の反転とビットの反転を組み合わせたもの。"
   ]
  },
  {
   "cell_type": "code",
   "execution_count": null,
   "id": "ffb8daf5",
   "metadata": {},
   "outputs": [],
   "source": [
    "\n"
   ]
  },
  {
   "cell_type": "code",
   "execution_count": null,
   "id": "25020839",
   "metadata": {},
   "outputs": [],
   "source": []
  }
 ],
 "metadata": {
  "kernelspec": {
   "display_name": "Python 3 (ipykernel)",
   "language": "python",
   "name": "python3"
  },
  "language_info": {
   "codemirror_mode": {
    "name": "ipython",
    "version": 3
   },
   "file_extension": ".py",
   "mimetype": "text/x-python",
   "name": "python",
   "nbconvert_exporter": "python",
   "pygments_lexer": "ipython3",
   "version": "3.12.3"
  }
 },
 "nbformat": 4,
 "nbformat_minor": 5
}
